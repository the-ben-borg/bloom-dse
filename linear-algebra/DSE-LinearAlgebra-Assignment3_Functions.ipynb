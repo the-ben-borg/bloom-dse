{
 "cells": [
  {
   "cell_type": "markdown",
   "metadata": {},
   "source": [
    "## Assignment 3\n",
    "### Functions\n",
    "\n",
    "#### Ben Perkins\n",
    "#### May 2020\n",
    "\n",
    "    1. Write a Python program to verify the dimension of `np.linspace(0, 2, 101)` is `101`."
   ]
  },
  {
   "cell_type": "code",
   "execution_count": 56,
   "metadata": {},
   "outputs": [
    {
     "data": {
      "text/plain": [
       "array([0.  , 0.02, 0.04, 0.06, 0.08, 0.1 , 0.12, 0.14, 0.16, 0.18, 0.2 ,\n",
       "       0.22, 0.24, 0.26, 0.28, 0.3 , 0.32, 0.34, 0.36, 0.38, 0.4 , 0.42,\n",
       "       0.44, 0.46, 0.48, 0.5 , 0.52, 0.54, 0.56, 0.58, 0.6 , 0.62, 0.64,\n",
       "       0.66, 0.68, 0.7 , 0.72, 0.74, 0.76, 0.78, 0.8 , 0.82, 0.84, 0.86,\n",
       "       0.88, 0.9 , 0.92, 0.94, 0.96, 0.98, 1.  , 1.02, 1.04, 1.06, 1.08,\n",
       "       1.1 , 1.12, 1.14, 1.16, 1.18, 1.2 , 1.22, 1.24, 1.26, 1.28, 1.3 ,\n",
       "       1.32, 1.34, 1.36, 1.38, 1.4 , 1.42, 1.44, 1.46, 1.48, 1.5 , 1.52,\n",
       "       1.54, 1.56, 1.58, 1.6 , 1.62, 1.64, 1.66, 1.68, 1.7 , 1.72, 1.74,\n",
       "       1.76, 1.78, 1.8 , 1.82, 1.84, 1.86, 1.88, 1.9 , 1.92, 1.94, 1.96,\n",
       "       1.98, 2.  ])"
      ]
     },
     "execution_count": 56,
     "metadata": {},
     "output_type": "execute_result"
    }
   ],
   "source": [
    "import numpy as np\n",
    "arr = np.linspace(0, 2, 101)\n",
    "arr"
   ]
  },
  {
   "cell_type": "code",
   "execution_count": 57,
   "metadata": {},
   "outputs": [
    {
     "data": {
      "text/plain": [
       "101"
      ]
     },
     "execution_count": 57,
     "metadata": {},
     "output_type": "execute_result"
    }
   ],
   "source": [
    "len(arr)"
   ]
  },
  {
   "cell_type": "markdown",
   "metadata": {},
   "source": [
    "2. Modify the code to plot the graph from `-1` to `1`.\n",
    "\n"
   ]
  },
  {
   "cell_type": "code",
   "execution_count": 71,
   "metadata": {},
   "outputs": [
    {
     "name": "stderr",
     "output_type": "stream",
     "text": [
      "<ipython-input-71-4a097698b986>:6: RuntimeWarning: divide by zero encountered in true_divide\n",
      "  def a(x): return 1.0 / x + 1\n"
     ]
    },
    {
     "data": {
      "image/png": "[encoded data removed]",
      "text/plain": [
       "<Figure size 432x288 with 1 Axes>"
      ]
     },
     "metadata": {},
     "output_type": "display_data"
    }
   ],
   "source": [
    "# original code:\n",
    "import numpy as np\n",
    "from matplotlib import pyplot as plt\n",
    "\n",
    "\n",
    "def a(x): return 1.0 / x + 1\n",
    "x = np.linspace(0, 2, 101)\n",
    "plt.plot(x, a(x))\n",
    "plt.show()\n"
   ]
  },
  {
   "cell_type": "code",
   "execution_count": 72,
   "metadata": {},
   "outputs": [
    {
     "name": "stderr",
     "output_type": "stream",
     "text": [
      "<ipython-input-72-c8e741454c37>:1: RuntimeWarning: divide by zero encountered in true_divide\n",
      "  def b(x): return 1.0 / x + 1\n"
     ]
    },
    {
     "data": {
      "image/png": "[encoded data removed]",
      "text/plain": [
       "<Figure size 432x288 with 1 Axes>"
      ]
     },
     "metadata": {},
     "output_type": "display_data"
    }
   ],
   "source": [
    "def b(x): return 1.0 / x + 1\n",
    "x = np.linspace(-1, 1, 101)\n",
    "plt.plot(x, b(x))\n",
    "plt.show()"
   ]
  },
  {
   "cell_type": "markdown",
   "metadata": {},
   "source": [
    "3. In our text, we said a polynomial of degree n has at most n real roots. In fact, if we allow complex-valued roots, then every polynomial of degree n has exactly n real roots. This fact is called the fundamental theorem of algebra. Read the Wikipedia page to understand the importance of this theorem."
   ]
  },
  {
   "cell_type": "markdown",
   "metadata": {},
   "source": [
    "define: \n",
    "- **polynomial root**\n",
    "- **degree**\n",
    " > Every polynomial equation having complex coefficients and degree >= 1 has at least one complex root."
   ]
  },
  {
   "cell_type": "markdown",
   "metadata": {},
   "source": [
    "4. Recall that a vector is an ordered collection of numbers. In another words, a d-dimensional vector defines a function from {0, 1, ..., d - 1} to ℝ. Define a Python function representing the vector (8, 307, 130, 3504, 12, 70, 18). Can we represent a set as a function?"
   ]
  },
  {
   "cell_type": "code",
   "execution_count": 60,
   "metadata": {},
   "outputs": [
    {
     "data": {
      "text/plain": [
       "array([   8,  307,  130, 3504,   12,   70,   18])"
      ]
     },
     "execution_count": 60,
     "metadata": {},
     "output_type": "execute_result"
    }
   ],
   "source": [
    "vec = np.array([8, 307, 130, 3504, 12, 70, 18])\n",
    "vec"
   ]
  },
  {
   "cell_type": "code",
   "execution_count": 61,
   "metadata": {},
   "outputs": [
    {
     "data": {
      "text/plain": [
       "{8, 12, 18, 70, 130, 307, 3504}"
      ]
     },
     "execution_count": 61,
     "metadata": {},
     "output_type": "execute_result"
    }
   ],
   "source": [
    "setv = {8, 307, 130, 3504, 12, 70, 18}\n",
    "setv"
   ]
  },
  {
   "cell_type": "markdown",
   "metadata": {},
   "source": [
    "5. Modify the initial guess in the code to `0` or `1`:"
   ]
  },
  {
   "cell_type": "code",
   "execution_count": 73,
   "metadata": {},
   "outputs": [
    {
     "name": "stdout",
     "output_type": "stream",
     "text": [
      "[-1.27372234]\n"
     ]
    }
   ],
   "source": [
    "from scipy.optimize import fsolve\n",
    "import warnings\n",
    "warnings.filterwarnings('ignore', 'The iteration is not making good progress')\n",
    "\n",
    "\n",
    "def c(x): return 2*(x**3)-3*(x**2) + 9\n",
    "print(fsolve(c, -1.3))"
   ]
  },
  {
   "cell_type": "code",
   "execution_count": 74,
   "metadata": {},
   "outputs": [
    {
     "name": "stdout",
     "output_type": "stream",
     "text": [
      "[-0.0070936]\n"
     ]
    }
   ],
   "source": [
    "def d(x): return 2*(x**3)-3*(x**2) + 9\n",
    "print(fsolve(d, 0))"
   ]
  },
  {
   "cell_type": "code",
   "execution_count": 75,
   "metadata": {},
   "outputs": [
    {
     "name": "stdout",
     "output_type": "stream",
     "text": [
      "[1.]\n"
     ]
    }
   ],
   "source": [
    "def f(x): return 2*(x**3)-3*(x**2) + 9\n",
    "print(fsolve(f, 1))"
   ]
  },
  {
   "cell_type": "markdown",
   "metadata": {},
   "source": [
    "7. Read how Euler's number e was discovered by studying compound interest. Write a Python function to compute the interest you get when interest compute n times per year, and plot your function to get an idea whether the interests converges to a number when n goes to infinity."
   ]
  },
  {
   "cell_type": "code",
   "execution_count": 76,
   "metadata": {},
   "outputs": [
    {
     "data": {
      "image/png": "[encoded data removed]",
      "text/plain": [
       "<Figure size 432x288 with 1 Axes>"
      ]
     },
     "metadata": {},
     "output_type": "display_data"
    }
   ],
   "source": [
    "# x is units of time; number of compoundings\n",
    "# d is initial investment\n",
    "\n",
    "# matplotlib stylesheet\n",
    "plt.style.use('ggplot')\n",
    "\n",
    "def interest(x, d):\n",
    "    return d*(d + 1/x)**x\n",
    "\n",
    "g = np.arange(1, 52)\n",
    "d = 1\n",
    "plt.plot(interest(g, d), g, color='red', linestyle='dashed')\n",
    "plt.grid(True)\n",
    "plt.show()"
   ]
  },
  {
   "cell_type": "markdown",
   "metadata": {},
   "source": [
    "8. Consider the Gaussian function $f\\left(x\\right)=e^{-x^2}$. Use Python to plot f, label the function by $e^{-x^2}$, and answer the following questions. Does f has a roots? Where does f increase or decrease? Does f has an inverse function?"
   ]
  },
  {
   "cell_type": "code",
   "execution_count": 77,
   "metadata": {},
   "outputs": [
    {
     "data": {
      "image/png": "[encoded data removed]",
      "text/plain": [
       "<Figure size 432x288 with 1 Axes>"
      ]
     },
     "metadata": {},
     "output_type": "display_data"
    }
   ],
   "source": [
    "import math\n",
    "\n",
    "def g(x):\n",
    "    return math.exp(-x**2)\n",
    "\n",
    "x = np.linspace(-3, 3, 101)\n",
    "g2 = np.vectorize(g)\n",
    "plt.plot(x, g2(x), color=\"mediumorchid\", ls=\"dashdot\", lw=\"2\", label=\"$e^{-x^2}$\")\n",
    "plt.legend()\n",
    "plt.show()\n"
   ]
  },
  {
   "cell_type": "markdown",
   "metadata": {},
   "source": [
    "- Does the function $f$ have roots?\n",
    "- Where does $f$ increase or decrease?\n",
    "- Does $f$ have an inverse function?\n",
    "\n",
    "    "
   ]
  },
  {
   "cell_type": "code",
   "execution_count": 78,
   "metadata": {},
   "outputs": [
    {
     "name": "stdout",
     "output_type": "stream",
     "text": [
      "[16.76838251]\n"
     ]
    }
   ],
   "source": [
    "from scipy.optimize import fsolve\n",
    "import warnings\n",
    "warnings.filterwarnings('ignore', 'The number of calls to function')\n",
    "\n",
    "print(fsolve(g, 2))"
   ]
  },
  {
   "cell_type": "markdown",
   "metadata": {},
   "source": [
    "- As $f\\left(x\\right)$ increases, $x$ tends to 0.\n",
    "- As $f\\left(x\\right)$ decreases, $x$ tends to 1."
   ]
  },
  {
   "cell_type": "markdown",
   "metadata": {},
   "source": [
    "10. Earlier we discussed the mathematical function $f(x) = (½)x$, but wrote `plt.plot(x, 0.5 ** x)` in Python. Run the following code in Python, and explain what you see."
   ]
  },
  {
   "cell_type": "code",
   "execution_count": 79,
   "metadata": {},
   "outputs": [
    {
     "data": {
      "image/png": "[encoded data removed]",
      "text/plain": [
       "<Figure size 432x288 with 1 Axes>"
      ]
     },
     "metadata": {},
     "output_type": "display_data"
    }
   ],
   "source": [
    "x = np.linspace(-2, 2, 101)\n",
    "plt.plot(x, (1/2)**x)\n",
    "plt.show()"
   ]
  },
  {
   "cell_type": "markdown",
   "metadata": {},
   "source": [
    "11. Explain why if a function $f$ is increasing, then its inverse function $f^-1$ is also increasing."
   ]
  },
  {
   "cell_type": "code",
   "execution_count": 80,
   "metadata": {},
   "outputs": [
    {
     "data": {
      "image/png": "[encoded data removed]",
      "text/plain": [
       "<Figure size 432x288 with 1 Axes>"
      ]
     },
     "metadata": {},
     "output_type": "display_data"
    }
   ],
   "source": [
    "import numpy as np\n",
    "\n",
    "def h(x): \n",
    "    return 2*(x**3) + 1\n",
    "\n",
    "def inv(x): \n",
    "    return np.cbrt((x-1)/2)\n",
    "\n",
    "\n",
    "\n",
    "x = np.linspace(-2, 2, 101)\n",
    "inv = list(zip(h(x), x))\n",
    "a, b = zip(*inv)\n",
    "\n",
    "plt.plot(x, h(x), color=\"red\", linestyle=\"dotted\")\n",
    "plt.plot(a, b, color=\"green\", linestyle=\"solid\")\n",
    "plt.plot()\n",
    "plt.show()"
   ]
  },
  {
   "cell_type": "markdown",
   "metadata": {},
   "source": [
    "12. Plot $y=x^2$ and its mirror image about $y=x$ on the whole real line $\\left(-\\infty, \\infty\\right)$, and explain why it does not have an inverse function on the whole real line."
   ]
  },
  {
   "cell_type": "code",
   "execution_count": 81,
   "metadata": {},
   "outputs": [
    {
     "data": {
      "image/png": "[encoded data removed]",
      "text/plain": [
       "<Figure size 432x288 with 1 Axes>"
      ]
     },
     "metadata": {},
     "output_type": "display_data"
    }
   ],
   "source": [
    "def j(x):\n",
    "    return x**2\n",
    "\n",
    "x = np.linspace(-2, 2, 101)\n",
    "y = j(x)\n",
    "\n",
    "plt.plot(x, y, color=\"green\", linestyle=\"solid\")\n",
    "plt.plot(y, x, color=\"orchid\", linestyle=\"dashdot\")\n",
    "plt.plot()\n",
    "plt.show()"
   ]
  },
  {
   "cell_type": "markdown",
   "metadata": {},
   "source": [
    "- The function $y = x^2$ has no inverse on the real line because there is a horizontal line, at $y = 1$, which intersects it more than once."
   ]
  },
  {
   "cell_type": "markdown",
   "metadata": {},
   "source": [
    "13. Express the function $f: {x \\to 2x^3 - 3x^2 + 9}$ using the parentheses and the equality sign."
   ]
  },
  {
   "cell_type": "markdown",
   "metadata": {},
   "source": [
    "$y = \\left(2x^3\\right) - \\left(3x^2\\right) + 9$"
   ]
  }
 ],
 "metadata": {
  "kernelspec": {
   "display_name": "DataSci",
   "language": "python",
   "name": "datasci"
  },
  "language_info": {
   "codemirror_mode": {
    "name": "ipython",
    "version": 3
   },
   "file_extension": ".py",
   "mimetype": "text/x-python",
   "name": "python",
   "nbconvert_exporter": "python",
   "pygments_lexer": "ipython3",
   "version": "3.8.3"
  }
 },
 "nbformat": 4,
 "nbformat_minor": 4
}
