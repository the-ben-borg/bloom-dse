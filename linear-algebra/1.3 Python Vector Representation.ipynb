{
 "cells": [
  {
   "cell_type": "markdown",
   "metadata": {},
   "source": [
    "## 1.3 Representing Vectors in Python\n",
    "- numPy example"
   ]
  },
  {
   "cell_type": "code",
   "execution_count": 2,
   "metadata": {},
   "outputs": [
    {
     "name": "stdout",
     "output_type": "stream",
     "text": [
      "[  33.    16.   657.   295.  7197.    23.5  140. ]\n",
      "[  -30.   -16.  -700.  -330. -7386.   -23.  -140.]\n",
      "7\n",
      "18\n"
     ]
    }
   ],
   "source": [
    "import numpy as np\n",
    "x = np.array([18, 8, 307, 130, 3504, 12, 70])\n",
    "y = np.array([15, 8, 350, 165, 3693, 11.5, 70])\n",
    "print (x + y)\n",
    "print (-2 * y)\n",
    "print (x.size)\n",
    "print (x[0])"
   ]
  },
  {
   "cell_type": "markdown",
   "metadata": {},
   "source": [
    "- **2-D** Vectors with *matplotlib*"
   ]
  },
  {
   "cell_type": "code",
   "execution_count": 1,
   "metadata": {},
   "outputs": [
    {
     "data": {
      "image/png": "[encoded data removed]",
      "text/plain": [
       "<Figure size 432x288 with 1 Axes>"
      ]
     },
     "metadata": {
      "needs_background": "light"
     },
     "output_type": "display_data"
    }
   ],
   "source": [
    "import matplotlib.pyplot as plt\n",
    "\n",
    "x = [18, 8]\n",
    "head_size = 0.25\n",
    "ax = plt.axes()\n",
    "ax.arrow(0, 0, x[0], x[1], head_width=head_size, head_length=head_size, fc='k', ec='k')\n",
    "ax.arrow(2, 3, x[0], x[1], head_width=head_size, head_length=head_size, fc='k', ec='k')\n",
    "ax.set_xlim([-1, 25])\n",
    "ax.set_ylim([-1, 25])\n",
    "plt.show()"
   ]
  },
  {
   "cell_type": "markdown",
   "metadata": {},
   "source": [
    "- The first arrow (Links to an external site.) function call draws an arrow from (0, 0) to (x[0], x[1]), and the second arrow is from (2, 3) to (2 + x[0], 3 + x[1]). After we draw our vectors, we use set_xlim (Links to an external site.) and set_ylim (Links to an external site.) to set the range of x-axis and y-axis, and use show to print our figure."
   ]
  },
  {
   "cell_type": "code",
   "execution_count": 2,
   "metadata": {},
   "outputs": [
    {
     "data": {
      "image/png": "[encoded data removed]",
      "text/plain": [
       "<Figure size 432x288 with 1 Axes>"
      ]
     },
     "metadata": {
      "needs_background": "light"
     },
     "output_type": "display_data"
    }
   ],
   "source": [
    "x = [18, 8]\n",
    "y = [2, 3]\n",
    "head_size = 0.25\n",
    "ax = plt.axes()\n",
    "ax.arrow(0, 0, x[0], x[1], head_width=head_size, head_length=head_size, fc='k', ec='k')\n",
    "ax.arrow(0, 0, y[0], y[1], head_width=head_size, head_length=head_size, fc='k', ec='k')\n",
    "ax.arrow(x[0], x[1], y[0], y[1], head_width=head_size, head_length=head_size, fc='k', ec='k')\n",
    "ax.arrow(y[0], y[1], x[0], x[1], head_width=head_size, head_length=head_size, fc='k', ec='k')\n",
    "ax.arrow(0, 0, y[0] + x[0], y[1] + x[1], head_width=head_size, head_length=head_size, fc='k', ec='k')\n",
    "ax.set_xlim([-1, 25])\n",
    "ax.set_ylim([-1, 25])\n",
    "plt.show()"
   ]
  },
  {
   "cell_type": "code",
   "execution_count": null,
   "metadata": {},
   "outputs": [],
   "source": []
  }
 ],
 "metadata": {
  "kernelspec": {
   "display_name": "MLPy",
   "language": "python",
   "name": "mlpy"
  },
  "language_info": {
   "codemirror_mode": {
    "name": "ipython",
    "version": 3
   },
   "file_extension": ".py",
   "mimetype": "text/x-python",
   "name": "python",
   "nbconvert_exporter": "python",
   "pygments_lexer": "ipython3",
   "version": "3.8.2"
  }
 },
 "nbformat": 4,
 "nbformat_minor": 4
}
