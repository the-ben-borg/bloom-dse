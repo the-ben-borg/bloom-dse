{
 "cells": [
  {
   "cell_type": "markdown",
   "metadata": {},
   "source": [
    "# Linear Algebra\n",
    "## Assignment 2. Sets\n",
    "### Ben Perkins - May 2020\n",
    "\n",
    "    1.Use set builder notation to represent the set of integers Z using N."
   ]
  },
  {
   "cell_type": "markdown",
   "metadata": {},
   "source": [
    "$\\mathbb{Z} = \\{ x| \\color{blue}x \\in \\mathbb{N} \\cup \\color{red}x \\in \\mathbb{N*-1} \\}$"
   ]
  },
  {
   "cell_type": "markdown",
   "metadata": {},
   "source": [
    "2. Naive set theory and Russell's paradox\n",
    "    - Notice that what we discussed in this unit is called naive set theory. Read the Wikipedia page about Russell's paradox to understand why we should not write {x | x ∉ x}. One extension of naive set theory which resolves Russell's paradox is Zermelo–Fraenkel set theory. We will not discuss Zermelo–Fraenkel set theory in this course."
   ]
  },
  {
   "cell_type": "markdown",
   "metadata": {},
   "source": [
    "    - Russell's paradox highlights that a non-contradictory method of determining a set cannot allow any condition to define a set. "
   ]
  },
  {
   "cell_type": "markdown",
   "metadata": {},
   "source": [
    "3. Explain the expression {x | x ∈ S and x ∉ T} as a Python list comprehension. Which part is output, variable, input set, and optional conditional statement?"
   ]
  },
  {
   "cell_type": "markdown",
   "metadata": {},
   "source": [
    "lst_c = [x for x in S if x not in T]\n",
    "\n",
    "- x is the variable.\n",
    "- $\\mathbb{S}$ is the input set.\n",
    "- $\\ x \\notin \\mathbb{T}$ is the optional conditional statement."
   ]
  },
  {
   "cell_type": "markdown",
   "metadata": {},
   "source": [
    "4. Write a Python function to compute the Cartesian product of two set objects."
   ]
  },
  {
   "cell_type": "code",
   "execution_count": 32,
   "metadata": {},
   "outputs": [
    {
     "name": "stdout",
     "output_type": "stream",
     "text": [
      "[(2, 1), (2, 3), (2, 6), (2, 8), (2, 11), (2, 14), (4, 1), (4, 3), (4, 6), (4, 8), (4, 11), (4, 14), (5, 1), (5, 3), (5, 6), (5, 8), (5, 11), (5, 14), (9, 1), (9, 3), (9, 6), (9, 8), (9, 11), (9, 14), (10, 1), (10, 3), (10, 6), (10, 8), (10, 11), (10, 14), (13, 1), (13, 3), (13, 6), (13, 8), (13, 11), (13, 14)]\n"
     ]
    }
   ],
   "source": [
    "# import itertools\n",
    "from itertools import *\n",
    "\n",
    "# Define two set objects, x and y:\n",
    "\n",
    "x = {2,4,5,9,10,13}\n",
    "y = {1,3,6,8,11,14}\n",
    "\n",
    "print(list(product(x, y)))"
   ]
  },
  {
   "cell_type": "markdown",
   "metadata": {},
   "source": [
    "5. Explain intuitively why the Python dictionary data structure does not have set operations like union, intersection, ...etc."
   ]
  },
  {
   "cell_type": "markdown",
   "metadata": {},
   "source": [
    "    - Python dictionaries are comprised of key:value pairs. The keys are always hashable, whereas the values are not. Therefore, set operations such as union and intersection are not possible with a Python dictionary. The values' hash values would not be strictly comparable, so there would be no guarantee of accuracy."
   ]
  },
  {
   "cell_type": "markdown",
   "metadata": {},
   "source": [
    "6. Simplify the expression ({} ∪ {{}}) × ({{{}}, {}} ∩ {{{{}}}}), and write a Python program to verify your answer.\n"
   ]
  },
  {
   "cell_type": "code",
   "execution_count": 33,
   "metadata": {},
   "outputs": [
    {
     "name": "stdout",
     "output_type": "stream",
     "text": [
      "[]\n"
     ]
    }
   ],
   "source": [
    "from itertools import *\n",
    "\n",
    "a = frozenset()\n",
    "b = frozenset(frozenset())\n",
    "c = a | b\n",
    "\n",
    "d = {b, a}\n",
    "e = frozenset(b)\n",
    "f = d & e\n",
    "\n",
    "print(list(product(c, f)))\n"
   ]
  },
  {
   "cell_type": "markdown",
   "metadata": {},
   "source": [
    "7. Remove all get_label_by_id lines in our example program in 2.3 Representing Sets in Python, and see what happens.\n"
   ]
  },
  {
   "cell_type": "code",
   "execution_count": 34,
   "metadata": {},
   "outputs": [
    {
     "data": {
      "image/png": "[encoded data removed]",
      "text/plain": [
       "<Figure size 432x288 with 1 Axes>"
      ]
     },
     "metadata": {},
     "output_type": "display_data"
    }
   ],
   "source": [
    "import matplotlib.pyplot as plt\n",
    "import numpy as np\n",
    "from matplotlib_venn import venn2\n",
    "\n",
    "S = {31, 4, 71, 65, 1773}\n",
    "T = {71, 65, 1773, 19}\n",
    "\n",
    "v = venn2([S,T], set_labels=('S', 'T'))\n",
    "plt.show()"
   ]
  },
  {
   "cell_type": "markdown",
   "metadata": {},
   "source": [
    "8. Read the Python documentation to plot a Venn diagram of three sets {31, 4, 71, 65, 1773}, {71, 65, 1773, 19}, and {4, 65, 19}."
   ]
  },
  {
   "cell_type": "code",
   "execution_count": 35,
   "metadata": {},
   "outputs": [
    {
     "data": {
      "image/png": "[encoded data removed]",
      "text/plain": [
       "<Figure size 432x288 with 1 Axes>"
      ]
     },
     "metadata": {},
     "output_type": "display_data"
    }
   ],
   "source": [
    "from matplotlib_venn import venn3\n",
    "\n",
    "A = {31, 4, 71, 65, 1773}\n",
    "B = {71, 65, 1773, 19}\n",
    "C = {4, 65, 19}\n",
    "\n",
    "n = venn3([A,B,C], set_labels=('A', 'B', 'C'))\n",
    "plt.show()"
   ]
  },
  {
   "cell_type": "markdown",
   "metadata": {},
   "source": [
    "9. Can we visualize the relations among four sets by a Venn diagram? Why or why not?"
   ]
  },
  {
   "cell_type": "markdown",
   "metadata": {},
   "source": [
    "    - The relations among four sets can be theoretically represented by a modified Venn diagram using ellipses as the shape. This is because past the number 3, congruent circles cannot overlap in a pattern such that the relationship between the underlying sets is preserved."
   ]
  }
 ],
 "metadata": {
  "kernelspec": {
   "display_name": "MLPy",
   "language": "python",
   "name": "mlpy"
  },
  "language_info": {
   "codemirror_mode": {
    "name": "ipython",
    "version": 3
   },
   "file_extension": ".py",
   "mimetype": "text/x-python",
   "name": "python",
   "nbconvert_exporter": "python",
   "pygments_lexer": "ipython3",
   "version": "3.8.2"
  }
 },
 "nbformat": 4,
 "nbformat_minor": 2
}
